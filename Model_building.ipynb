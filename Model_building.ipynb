{
 "cells": [
  {
   "cell_type": "code",
   "execution_count": 37,
   "id": "a3246ed1-19aa-41f6-aa1a-81984d0455a2",
   "metadata": {},
   "outputs": [],
   "source": [
    "import pandas as pd\n",
    "from sklearn.feature_extraction.text import TfidfVectorizer\n",
    "from sklearn.metrics.pairwise import cosine_similarity\n",
    "import pickle"
   ]
  },
  {
   "cell_type": "code",
   "execution_count": 25,
   "id": "cd086b60-b1c7-427e-b49e-c7254d88028a",
   "metadata": {},
   "outputs": [],
   "source": [
    "class CosineSimilarityPromptModel:\n",
    "    def __init__(self, data_path):\n",
    "        # Load and preprocess data\n",
    "        self.movies = pd.read_csv(data_path)\n",
    "        self.movies = self.movies[['movie_id', 'tags']]\n",
    "        self.movies['tags'] = self.movies['tags'].fillna('')\n",
    "        \n",
    "        # Create a TF-IDF matrix for the overview feature\n",
    "        self.tfidf = TfidfVectorizer(stop_words='english')\n",
    "        self.tfidf_matrix = self.tfidf.fit_transform(self.movies['tags'])\n",
    "    \n",
    "    def get_recommendations_from_prompt(self, prompt, num_recommendations=10):\n",
    "        # Convert the input prompt into a TF-IDF vector\n",
    "        prompt_tfidf = self.tfidf.transform([prompt])\n",
    "        \n",
    "        # Compute cosine similarity between the input prompt and all movie overviews\n",
    "        cosine_sim_prompt = cosine_similarity(prompt_tfidf, self.tfidf_matrix)\n",
    "        \n",
    "        # Get the similarity scores for all movies\n",
    "        sim_scores = list(enumerate(cosine_sim_prompt[0]))\n",
    "        \n",
    "        # Sort the movies based on the similarity scores\n",
    "        sim_scores = sorted(sim_scores, key=lambda x: x[1], reverse=True)\n",
    "        \n",
    "        # Get the indices of the top 'num_recommendations' similar movies\n",
    "        sim_scores = sim_scores[:num_recommendations]  # No need to exclude the prompt itself\n",
    "        \n",
    "        # Get the movie indices\n",
    "        movie_indices = [i[0] for i in sim_scores]\n",
    "        \n",
    "        # Return the titles of the top 'num_recommendations' similar movies\n",
    "        return self.movies['movie_id'].iloc[movie_indices].values\n",
    "\n",
    "    def save_model(self, filename):\n",
    "        # Save the model (TF-IDF vectorizer, TF-IDF matrix, and movie data) using pickle\n",
    "        with open(filename, 'wb') as f:\n",
    "            pickle.dump({\n",
    "                'tfidf': self.tfidf,\n",
    "                'tfidf_matrix': self.tfidf_matrix,\n",
    "                'movies': self.movies\n",
    "            }, f)\n",
    "\n",
    "    @staticmethod\n",
    "    def load_model(filename):\n",
    "        with open(filename, 'rb') as f:\n",
    "            data = pickle.load(f)\n",
    "        \n",
    "        model = CosineSimilarityPromptModel.__new__(CosineSimilarityPromptModel)\n",
    "        model.tfidf = data['tfidf']\n",
    "        model.tfidf_matrix = data['tfidf_matrix']\n",
    "        model.movies = data['movies']\n",
    "        return model"
   ]
  },
  {
   "cell_type": "code",
   "execution_count": 43,
   "id": "c467bd49-f155-4db0-84b0-46928f9c1361",
   "metadata": {},
   "outputs": [
    {
     "name": "stdout",
     "output_type": "stream",
     "text": [
      "Movies recommended based on the prompt:\n",
      "1651    The New World\n",
      "Name: title, dtype: object\n",
      "317    The Flowers of War\n",
      "Name: title, dtype: object\n",
      "2255    Equilibrium\n",
      "Name: title, dtype: object\n",
      "3616    Saved!\n",
      "Name: title, dtype: object\n",
      "2534    Little Women\n",
      "Name: title, dtype: object\n",
      "3259    American Psycho\n",
      "Name: title, dtype: object\n",
      "873    Shaft\n",
      "Name: title, dtype: object\n",
      "4103    Harsh Times\n",
      "Name: title, dtype: object\n",
      "43    Terminator Salvation\n",
      "Name: title, dtype: object\n",
      "2245    I'm Not There.\n",
      "Name: title, dtype: object\n"
     ]
    }
   ],
   "source": [
    "if __name__ == \"__main__\":\n",
    "    df= pd.read_csv('model/data/Movies.csv')\n",
    "    # Step 1: Build the model\n",
    "    model = CosineSimilarityPromptModel('model/data/Movies.csv')\n",
    "    \n",
    "    # Step 2: Save the model to a pickle file\n",
    "    model.save_model('cosine_similarity_prompt_model.pkl')\n",
    "    \n",
    "    # Step 3: Load the model from the pickle file\n",
    "    loaded_model = CosineSimilarityPromptModel.load_model('cosine_similarity_prompt_model.pkl')\n",
    "    \n",
    "    # Step 4: Get recommendations from a prompt (movie description or overview)\n",
    "    prompt = \"christian bale\"\n",
    "    \n",
    "    # Call the method with the correct parameters: prompt and number of recommendations\n",
    "    recommendations = loaded_model.get_recommendations_from_prompt(prompt, num_recommendations=10)\n",
    "    \n",
    "    # Print recommended movies based on the prompt\n",
    "    print(f\"Movies recommended based on the prompt:\")\n",
    "    for movie in recommendations:\n",
    "        print(df[df['movie_id']==movie]['title'])"
   ]
  }
 ],
 "metadata": {
  "kernelspec": {
   "display_name": "Python 3 (ipykernel)",
   "language": "python",
   "name": "python3"
  },
  "language_info": {
   "codemirror_mode": {
    "name": "ipython",
    "version": 3
   },
   "file_extension": ".py",
   "mimetype": "text/x-python",
   "name": "python",
   "nbconvert_exporter": "python",
   "pygments_lexer": "ipython3",
   "version": "3.12.4"
  }
 },
 "nbformat": 4,
 "nbformat_minor": 5
}
